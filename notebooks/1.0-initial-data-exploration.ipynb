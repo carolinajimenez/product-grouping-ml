{
 "cells": [
  {
   "cell_type": "code",
   "execution_count": 1,
   "metadata": {},
   "outputs": [],
   "source": [
    "# Standard library imports.\n",
    "import os\n",
    "import requests\n",
    "import warnings\n",
    "warnings.simplefilter(action='ignore', category=FutureWarning)\n",
    "\n",
    "# Third party imports.\n",
    "import pandas as pd\n",
    "from tqdm import tqdm"
   ]
  },
  {
   "cell_type": "code",
   "execution_count": 40,
   "metadata": {},
   "outputs": [],
   "source": [
    "class MELIData:\n",
    "    def __init__(self) -> None:\n",
    "        self.meli_url = \"https://api.mercadolibre.com/\"\n",
    "        self.dataset_path = \"../data/raw\"\n",
    "\n",
    "    def get_sites(self):\n",
    "        url = f\"{self.meli_url}/sites\"\n",
    "        request = requests.get(url)\n",
    "        sites = request.json()\n",
    "        return sites\n",
    "\n",
    "    def get_categories(self, site_id):\n",
    "        url = f\"{self.meli_url}/sites/{site_id}/categories\"\n",
    "        request = requests.get(url)\n",
    "        categories = request.json()\n",
    "        return categories\n",
    "\n",
    "    def search_item_by_category(self, site_id, cat_id, offset=50):\n",
    "        url = f\"{self.meli_url}/sites/{site_id}/search\"\n",
    "        params = {'category': cat_id, 'offset': offset}\n",
    "        request = requests.get(url, params=params)\n",
    "        items = request.json()\n",
    "        return items\n",
    "\n",
    "    def get_item_features(self, item_id):\n",
    "        url = f\"{self.meli_url}/items/{item_id}\"\n",
    "        request = requests.get(url)\n",
    "        features = request.json()\n",
    "        return features\n",
    "\n",
    "    def convert_and_save_dataframe(self, arr, df_name):\n",
    "        dataframe = pd.DataFrame(arr)\n",
    "        dataframe.to_csv(f\"{self.dataset_path}/{df_name}.csv\", index=False)\n",
    "\n",
    "    def read_df(self, df_name):\n",
    "        dataframe = pd.read_csv(f\"{self.dataset_path}/{df_name}.csv\")\n",
    "        return dataframe"
   ]
  },
  {
   "cell_type": "code",
   "execution_count": 41,
   "metadata": {},
   "outputs": [],
   "source": [
    "melidataset = MELIData()"
   ]
  },
  {
   "cell_type": "code",
   "execution_count": 42,
   "metadata": {},
   "outputs": [
    {
     "name": "stdout",
     "output_type": "stream",
     "text": [
      "sites: <class 'list'>\n",
      "sites[0]: <class 'dict'>\n"
     ]
    }
   ],
   "source": [
    "# Get sites - each country has its ID\n",
    "sites = melidataset.get_sites()\n",
    "print(\"sites:\", type(sites))\n",
    "print(\"sites[0]:\", type(sites[0]))"
   ]
  },
  {
   "cell_type": "code",
   "execution_count": 43,
   "metadata": {},
   "outputs": [],
   "source": [
    "melidataset.convert_and_save_dataframe(sites, \"sites\")"
   ]
  },
  {
   "cell_type": "code",
   "execution_count": 44,
   "metadata": {},
   "outputs": [
    {
     "name": "stdout",
     "output_type": "stream",
     "text": [
      "categories: <class 'list'>\n",
      "categories[0]: <class 'dict'>\n"
     ]
    }
   ],
   "source": [
    "# Get categories - Categories of items belonging to the Marketplace\n",
    "site_id = 'MCO'\n",
    "categories = melidataset.get_categories(site_id)\n",
    "print(\"categories:\", type(categories))\n",
    "print(\"categories[0]:\", type(categories[0]))"
   ]
  },
  {
   "cell_type": "code",
   "execution_count": 45,
   "metadata": {},
   "outputs": [],
   "source": [
    "melidataset.convert_and_save_dataframe(categories, \"categories_MCO\")"
   ]
  },
  {
   "cell_type": "code",
   "execution_count": null,
   "metadata": {},
   "outputs": [],
   "source": [
    "# Get items\n",
    "items = pd.DataFrame()\n",
    "item_attributes = pd.DataFrame()\n",
    "item_features = pd.DataFrame()\n",
    "\n",
    "site_id = 'MCO'\n",
    "df_name = f\"categories_{site_id}\"\n",
    "categories = melidataset.read_df(df_name)\n",
    "\n",
    "# Get the first 1000 items per search\n",
    "# for each category in the marketplace.\n",
    "offsets = list(range(0, 1000, 50))\n",
    "\n",
    "for _, row in tqdm(categories.iterrows(), total=len(categories)):\n",
    "    # print(\"key:\", type(key))\n",
    "    category_id = row['id']\n",
    "\n",
    "    for offset in tqdm(offsets, total=len(offsets)):\n",
    "        item_cats = melidataset.search_item_by_category(site_id, category_id, offset)\n",
    "        if 'results' in item_cats:\n",
    "            resulting_items = item_cats['results']\n",
    "            if resulting_items is not None:\n",
    "                for resulting_item in tqdm(resulting_items, total=len(resulting_items)):\n",
    "                    shipping_subdict = resulting_item.pop('shipping')\n",
    "                    if shipping_subdict is not None:\n",
    "                        resulting_item.update(shipping_subdict)\n",
    "\n",
    "                    installments_subdict = resulting_item.pop('installments')\n",
    "                    if installments_subdict is not None:\n",
    "                        resulting_item.update(installments_subdict)\n",
    "\n",
    "                    resulting_item['seller_id'] = resulting_item['seller']['id']\n",
    "                    resulting_item.pop('seller')\n",
    "\n",
    "                    attributes = resulting_item['attributes']\n",
    "                    attributes_ = [{'item_id': resulting_item['id'], **attr} for attr in attributes]\n",
    "\n",
    "                    resulting_item.pop('attributes')\n",
    "\n",
    "                    items_df = pd.DataFrame([resulting_item])\n",
    "                    item_attributes_df = pd.DataFrame(attributes_)\n",
    "\n",
    "                    features = melidataset.get_item_features(resulting_item['id'])\n",
    "                    features_df = pd.DataFrame([features])\n",
    "                \n",
    "                    items = pd.concat([items, items_df], ignore_index=True)\n",
    "                    item_attributes = pd.concat([item_attributes, item_attributes_df], ignore_index=True)\n",
    "                    item_features = pd.concat([item_features, features_df], ignore_index=True)\n",
    "                os.system('clear')\n",
    "\n",
    "melidataset.convert_and_save_dataframe(items, \"items_MCO\")\n",
    "melidataset.convert_and_save_dataframe(item_attributes, \"item_attributes_MCO\")\n",
    "melidataset.convert_and_save_dataframe(item_features, \"item_features_MCO\")\n"
   ]
  },
  {
   "cell_type": "code",
   "execution_count": null,
   "metadata": {},
   "outputs": [],
   "source": []
  }
 ],
 "metadata": {
  "kernelspec": {
   "display_name": "mlenv",
   "language": "python",
   "name": "python3"
  },
  "language_info": {
   "codemirror_mode": {
    "name": "ipython",
    "version": 3
   },
   "file_extension": ".py",
   "mimetype": "text/x-python",
   "name": "python",
   "nbconvert_exporter": "python",
   "pygments_lexer": "ipython3",
   "version": "3.11.8"
  }
 },
 "nbformat": 4,
 "nbformat_minor": 2
}
