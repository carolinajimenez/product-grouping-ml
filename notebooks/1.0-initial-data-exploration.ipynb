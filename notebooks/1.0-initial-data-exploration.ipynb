{
 "cells": [
  {
   "cell_type": "code",
   "execution_count": 78,
   "metadata": {},
   "outputs": [],
   "source": [
    "# Standard library imports.\n",
    "import os\n",
    "import requests\n",
    "import warnings\n",
    "warnings.simplefilter(action='ignore', category=FutureWarning)\n",
    "\n",
    "# Third party imports.\n",
    "import pandas as pd\n",
    "from tqdm import tqdm"
   ]
  },
  {
   "cell_type": "code",
   "execution_count": 40,
   "metadata": {},
   "outputs": [],
   "source": [
    "class MELIData:\n",
    "    def __init__(self) -> None:\n",
    "        self.meli_url = \"https://api.mercadolibre.com/\"\n",
    "        self.dataset_path = \"../data/raw\"\n",
    "\n",
    "    def get_sites(self):\n",
    "        url = f\"{self.meli_url}/sites\"\n",
    "        request = requests.get(url)\n",
    "        sites = request.json()\n",
    "        return sites\n",
    "\n",
    "    def get_categories(self, site_id):\n",
    "        url = f\"{self.meli_url}/sites/{site_id}/categories\"\n",
    "        request = requests.get(url)\n",
    "        categories = request.json()\n",
    "        return categories\n",
    "\n",
    "    def search_item_by_category(self, site_id, cat_id, offset=50):\n",
    "        url = f\"{self.meli_url}/sites/{site_id}/search\"\n",
    "        params = {'category': cat_id, 'offset': offset}\n",
    "        request = requests.get(url, params=params)\n",
    "        items = request.json()\n",
    "        return items\n",
    "\n",
    "    def get_item_features(self, item_id):\n",
    "        url = f\"{self.meli_url}/items/{item_id}\"\n",
    "        request = requests.get(url)\n",
    "        features = request.json()\n",
    "        return features\n",
    "\n",
    "    def convert_and_save_dataframe(self, arr, df_name):\n",
    "        dataframe = pd.DataFrame(arr)\n",
    "        dataframe.to_csv(f\"{self.dataset_path}/{df_name}.csv\", index=False)\n",
    "\n",
    "    def read_df(self, df_name):\n",
    "        dataframe = pd.read_csv(f\"{self.dataset_path}/{df_name}.csv\")\n",
    "        return dataframe"
   ]
  },
  {
   "cell_type": "code",
   "execution_count": 41,
   "metadata": {},
   "outputs": [],
   "source": [
    "melidataset = MELIData()"
   ]
  },
  {
   "cell_type": "code",
   "execution_count": 42,
   "metadata": {},
   "outputs": [
    {
     "name": "stdout",
     "output_type": "stream",
     "text": [
      "sites: <class 'list'>\n",
      "sites[0]: <class 'dict'>\n"
     ]
    }
   ],
   "source": [
    "# Get sites - each country has its ID\n",
    "sites = melidataset.get_sites()\n",
    "print(\"sites:\", type(sites))\n",
    "print(\"sites[0]:\", type(sites[0]))"
   ]
  },
  {
   "cell_type": "code",
   "execution_count": 43,
   "metadata": {},
   "outputs": [],
   "source": [
    "melidataset.convert_and_save_dataframe(sites, \"sites\")"
   ]
  },
  {
   "cell_type": "code",
   "execution_count": 44,
   "metadata": {},
   "outputs": [
    {
     "name": "stdout",
     "output_type": "stream",
     "text": [
      "categories: <class 'list'>\n",
      "categories[0]: <class 'dict'>\n"
     ]
    }
   ],
   "source": [
    "# Get categories - Categories of items belonging to the Marketplace\n",
    "site_id = 'MCO'\n",
    "categories = melidataset.get_categories(site_id)\n",
    "print(\"categories:\", type(categories))\n",
    "print(\"categories[0]:\", type(categories[0]))"
   ]
  },
  {
   "cell_type": "code",
   "execution_count": 45,
   "metadata": {},
   "outputs": [],
   "source": [
    "melidataset.convert_and_save_dataframe(categories, \"categories_MCO\")"
   ]
  },
  {
   "cell_type": "code",
   "execution_count": null,
   "metadata": {},
   "outputs": [],
   "source": [
    "# Get items\n",
    "items = pd.DataFrame()\n",
    "item_attributes = pd.DataFrame()\n",
    "item_pictures = pd.DataFrame()\n",
    "\n",
    "site_id = 'MCO'\n",
    "df_name = f\"categories_{site_id}\"\n",
    "categories = melidataset.read_df(df_name)\n",
    "\n",
    "# Get the first 1000 items per search\n",
    "# for each category in the marketplace.\n",
    "offsets = list(range(0, 1000, 50))\n",
    "\n",
    "for _, row in tqdm(categories.iterrows(), total=len(categories)):\n",
    "    # print(\"key:\", type(key))\n",
    "    category_id = row['id']\n",
    "\n",
    "    for offset in tqdm(offsets, total=len(offsets)):\n",
    "        item_cats = melidataset.search_item_by_category(site_id, category_id, offset)\n",
    "        if 'results' in item_cats:\n",
    "            resulting_items = item_cats['results']\n",
    "            if resulting_items is not None:\n",
    "                for resulting_item in tqdm(resulting_items, total=len(resulting_items)):\n",
    "                    # The content of 'shipping' is a dictionary.\n",
    "                    # For this reason it is decided to take the keys and their values\n",
    "                    # and add them directly to the content of the item\n",
    "                    shipping_subdict = resulting_item.pop('shipping')\n",
    "                    if shipping_subdict is not None:\n",
    "                        resulting_item.update(shipping_subdict)\n",
    "\n",
    "                    # The content of 'installments' is a dictionary.\n",
    "                    # For this reason it is decided to take the keys and their values\n",
    "                    # and add them directly to the content of the item\n",
    "                    installments_subdict = resulting_item.pop('installments')\n",
    "                    if installments_subdict is not None:\n",
    "                        resulting_item.update(installments_subdict)\n",
    "\n",
    "                    # Add the seller id directly to the item content.\n",
    "                    resulting_item['seller_id'] = resulting_item['seller']['id']\n",
    "                    resulting_item.pop('seller')\n",
    "\n",
    "                    # The item attributes are a list of dictionaries.\n",
    "                    # It is decided to save them as a separate file\n",
    "                    attributes = resulting_item['attributes']\n",
    "                    attributes_ = [{\n",
    "                        'site_id': site_id,\n",
    "                        'category_id': category_id,\n",
    "                        'item_id': resulting_item['id'],\n",
    "                        **attr,\n",
    "                    } for attr in attributes]\n",
    "                    resulting_item.pop('attributes')\n",
    "\n",
    "                    # The features obtained from the items are not complete.\n",
    "                    # For this reason, an additional query is made and the relevant keys are stored.\n",
    "                    features = melidataset.get_item_features(resulting_item['id'])\n",
    "                    resulting_item['initial_quantity'] = features['initial_quantity']\n",
    "                    resulting_item['warranty'] = features['warranty']\n",
    "\n",
    "                    # The 'pictures' are a list of dictionaries.\n",
    "                    # It is decided to save them as a separate file\n",
    "                    pictures = features['pictures']\n",
    "                    pictures_ = [{\n",
    "                        'site_id': site_id,\n",
    "                        'category_id': category_id,\n",
    "                        'item_id': resulting_item['id'],\n",
    "                        **attr,\n",
    "                    } for attr in pictures]\n",
    "\n",
    "                    items_df = pd.DataFrame([resulting_item])\n",
    "                    item_attributes_df = pd.DataFrame(attributes_)\n",
    "                    item_pictures_df = pd.DataFrame(pictures_)\n",
    "                \n",
    "                    items = pd.concat([items, items_df], ignore_index=True)\n",
    "                    item_attributes = pd.concat([item_attributes, item_attributes_df], ignore_index=True)\n",
    "                    item_pictures = pd.concat([item_pictures, item_pictures_df], ignore_index=True)\n",
    "                os.system('clear')\n",
    "\n",
    "melidataset.convert_and_save_dataframe(items, \"items_MCO\")\n",
    "\n",
    "item_attributes.drop(['values'], axis=1)\n",
    "melidataset.convert_and_save_dataframe(item_attributes, \"item_attributes_MCO\")\n",
    "\n",
    "melidataset.convert_and_save_dataframe(item_pictures, \"item_pictures_MCO\")"
   ]
  },
  {
   "cell_type": "code",
   "execution_count": 68,
   "metadata": {},
   "outputs": [
    {
     "name": "stderr",
     "output_type": "stream",
     "text": [
      "/var/folders/jd/bf1pfxf55sschy05hfjrlklr0000gn/T/ipykernel_13772/3963922994.py:36: DtypeWarning: Columns (30) have mixed types. Specify dtype option on import or set low_memory=False.\n",
      "  dataframe = pd.read_csv(f\"{self.dataset_path}/{df_name}.csv\")\n"
     ]
    }
   ],
   "source": [
    "items = melidataset.read_df(\"items_MCO\")\n",
    "item_attributes = melidataset.read_df(\"item_attributes_MCO\")\n",
    "item_pictures = melidataset.read_df(\"item_pictures_MCO\")"
   ]
  },
  {
   "cell_type": "code",
   "execution_count": 69,
   "metadata": {},
   "outputs": [
    {
     "name": "stdout",
     "output_type": "stream",
     "text": [
      "Item cols: ['id', 'title', 'condition', 'thumbnail_id', 'catalog_product_id', 'listing_type_id', 'permalink', 'buying_mode', 'site_id', 'category_id', 'domain_id', 'thumbnail', 'currency_id', 'order_backend', 'price', 'original_price', 'sale_price', 'available_quantity', 'official_store_id', 'use_thumbnail_id', 'accepts_mercadopago', 'stop_time', 'winner_item_id', 'catalog_listing', 'discounts', 'promotions', 'inventory_id', 'store_pick_up', 'free_shipping', 'logistic_type', 'mode', 'tags', 'benefits', 'promise', 'quantity', 'amount', 'rate', 'seller_id', 'differential_pricing', 'variation_filters', 'variations_data', 'official_store_name', 'location', 'seller_contact'] 44\n",
      "\n",
      "              id                                              title condition  \\\n",
      "0  MCO2196744036  Intercomunicador Auriculares Casco Bluetooh Bt...       new   \n",
      "1  MCO1403134263  Espejo Retrovisor Con Cámara Táctil 9.66 Inch ...       new   \n",
      "2  MCO1312378271                Llanta Hifly Hf201 P 185/60r14 82 H       new   \n",
      "3   MCO468073609  Limpiador De Inyectores De Motor A Gasolina Li...       new   \n",
      "4  MCO2260055390         Candado Con Alarma Para Motos Y Bicicletas       new   \n",
      "\n",
      "                   thumbnail_id catalog_product_id listing_type_id  \\\n",
      "0  929862-MLU73884050427_012024        MCO23892470    gold_special   \n",
      "1  690567-MLU73062380373_112023        MCO28368900    gold_special   \n",
      "2  876772-MLA74406430479_022024        MCO17976345    gold_special   \n",
      "3  789647-MCO53199125684_012023                NaN    gold_special   \n",
      "4  605009-MLU72418214106_102023        MCO27911986        gold_pro   \n",
      "\n",
      "                                           permalink buying_mode site_id  \\\n",
      "0  https://www.mercadolibre.com.co/intercomunicad...  buy_it_now     MCO   \n",
      "1  https://www.mercadolibre.com.co/espejo-retrovi...  buy_it_now     MCO   \n",
      "2  https://www.mercadolibre.com.co/llanta-hifly-h...  buy_it_now     MCO   \n",
      "3  https://articulo.mercadolibre.com.co/MCO-46807...  buy_it_now     MCO   \n",
      "4  https://www.mercadolibre.com.co/candado-con-al...  buy_it_now     MCO   \n",
      "\n",
      "  category_id  ... quantity   amount rate  seller_id  differential_pricing  \\\n",
      "0    MCO90069  ...     36.0  1520.58  0.0  170121574                   NaN   \n",
      "1   MCO177991  ...     36.0  4641.67  0.0  736375189                   NaN   \n",
      "2    MCO23030  ...     36.0  4125.00  0.0  305902091                   NaN   \n",
      "3   MCO166028  ...     36.0  1191.67  0.0   31508529                   NaN   \n",
      "4   MCO180780  ...     12.0  1751.50  0.0  263335107      {'id': 33602181}   \n",
      "\n",
      "   variation_filters  variations_data  official_store_name  location  \\\n",
      "0                NaN              NaN                  NaN       NaN   \n",
      "1                NaN              NaN                  NaN       NaN   \n",
      "2                NaN              NaN                  NaN       NaN   \n",
      "3                NaN              NaN                  NaN       NaN   \n",
      "4                NaN              NaN                  NaN       NaN   \n",
      "\n",
      "   seller_contact  \n",
      "0             NaN  \n",
      "1             NaN  \n",
      "2             NaN  \n",
      "3             NaN  \n",
      "4             NaN  \n",
      "\n",
      "[5 rows x 44 columns]\n"
     ]
    }
   ],
   "source": [
    "item_cols = list(items.columns)\n",
    "print(\"Item cols:\", item_cols, len(item_cols), end=\"\\n\\n\")\n",
    "print(items.head())"
   ]
  },
  {
   "cell_type": "code",
   "execution_count": 70,
   "metadata": {},
   "outputs": [
    {
     "name": "stdout",
     "output_type": "stream",
     "text": [
      "Item attribute cols: ['item_id', 'id', 'name', 'value_id', 'value_name', 'attribute_group_id', 'attribute_group_name', 'value_struct', 'source', 'value_type'] 10\n",
      "\n",
      "         item_id              id                          name    value_id  \\\n",
      "0  MCO2196744036           BRAND                         Marca  19945578.0   \n",
      "1  MCO2196744036  ITEM_CONDITION            Condición del ítem   2230284.0   \n",
      "2  MCO2196744036           MODEL                        Modelo   5856612.0   \n",
      "3  MCO1403134263           BRAND                         Marca    276243.0   \n",
      "4  MCO1403134263            GTIN  Código universal de producto         NaN   \n",
      "\n",
      "      value_name attribute_group_id attribute_group_name value_struct  \\\n",
      "0          Sikeo             OTHERS                Otros          NaN   \n",
      "1          Nuevo             OTHERS                Otros          NaN   \n",
      "2          BT 12             OTHERS                Otros          NaN   \n",
      "3       Genérica             OTHERS                Otros          NaN   \n",
      "4  7898513885022             OTHERS                Otros          NaN   \n",
      "\n",
      "         source value_type  \n",
      "0  1.000000e+00     string  \n",
      "1  6.402815e+15       list  \n",
      "2  1.000000e+00     string  \n",
      "3  1.000000e+00     string  \n",
      "4  6.402815e+15     string  \n"
     ]
    }
   ],
   "source": [
    "item_attribute_cols = list(item_attributes.columns)\n",
    "print(\"Item attribute cols:\", item_attribute_cols, len(item_attribute_cols), end=\"\\n\\n\")\n",
    "print(item_attributes.head())"
   ]
  },
  {
   "cell_type": "code",
   "execution_count": 65,
   "metadata": {},
   "outputs": [
    {
     "name": "stdout",
     "output_type": "stream",
     "text": [
      "Item feature cols: ['id', 'site_id', 'title', 'seller_id', 'category_id', 'official_store_id', 'price', 'base_price', 'original_price', 'currency_id', 'initial_quantity', 'sale_terms', 'buying_mode', 'listing_type_id', 'condition', 'permalink', 'thumbnail_id', 'thumbnail', 'pictures', 'video_id', 'descriptions', 'accepts_mercadopago', 'non_mercado_pago_payment_methods', 'shipping', 'international_delivery_mode', 'seller_address', 'seller_contact', 'location', 'coverage_areas', 'attributes', 'listing_source', 'variations', 'status', 'sub_status', 'tags', 'warranty', 'catalog_product_id', 'domain_id', 'parent_item_id', 'deal_ids', 'automatic_relist', 'date_created', 'last_updated', 'health', 'catalog_listing'] 45\n",
      "\n",
      "              id site_id                                              title  \\\n",
      "0  MCO2196744036     MCO  Intercomunicador Auriculares Casco Bluetooh Bt...   \n",
      "1  MCO1403134263     MCO  Espejo Retrovisor Con Cámara Táctil 9.66 Inch ...   \n",
      "2  MCO1312378271     MCO                Llanta Hifly Hf201 P 185/60r14 82 H   \n",
      "3   MCO468073609     MCO  Limpiador De Inyectores De Motor A Gasolina Li...   \n",
      "4  MCO2260055390     MCO         Candado Con Alarma Para Motos Y Bicicletas   \n",
      "\n",
      "   seller_id category_id  official_store_id     price  base_price  \\\n",
      "0  170121574    MCO90069                NaN   54741.0     54741.0   \n",
      "1  736375189   MCO177991                NaN  167100.0    167100.0   \n",
      "2  305902091    MCO23030                NaN  148500.0    148500.0   \n",
      "3   31508529   MCO166028                NaN   42900.0     42900.0   \n",
      "4  263335107   MCO180780                NaN   21018.0     21018.0   \n",
      "\n",
      "   original_price currency_id  ...                        warranty  \\\n",
      "0             NaN         COP  ...  Garantía del vendedor: 1 meses   \n",
      "1             NaN         COP  ...  Garantía del vendedor: 1 meses   \n",
      "2        198000.0         COP  ...     Garantía de fábrica: 5 años   \n",
      "3             NaN         COP  ...    Garantía de fábrica: 30 días   \n",
      "4             NaN         COP  ...  Garantía del vendedor: 30 días   \n",
      "\n",
      "  catalog_product_id                          domain_id parent_item_id  \\\n",
      "0        MCO23892470  MCO-MOTORCYCLE_INTERCOMMUNICATORS            NaN   \n",
      "1        MCO28368900                MCO-VEHICLE_CAMERAS            NaN   \n",
      "2        MCO17976345               MCO-AUTOMOTIVE_TIRES            NaN   \n",
      "3                NaN         MCO-VEHICLE_FUEL_INJECTORS            NaN   \n",
      "4        MCO27911986  MCO-BICYCLE_AND_MOTORCYCLE_ALARMS            NaN   \n",
      "\n",
      "                                            deal_ids automatic_relist  \\\n",
      "0                           ['MCO21879', 'MCO21872']            False   \n",
      "1                           ['MCO21879', 'MCO21872']            False   \n",
      "2                ['MCO21879', 'MCO8518', 'MCO21872']            False   \n",
      "3  ['MCO21879', 'MCO8526', 'MCO8518', 'MCO21872',...            False   \n",
      "4                                                 []            False   \n",
      "\n",
      "               date_created              last_updated health catalog_listing  \n",
      "0  2024-02-04T14:56:25.000Z  2024-03-25T01:25:32.000Z    NaN            True  \n",
      "1  2024-03-15T21:29:43.907Z  2024-03-24T17:28:32.560Z    NaN            True  \n",
      "2  2023-07-07T22:00:48.000Z  2024-03-24T16:01:18.000Z    NaN            True  \n",
      "3  2018-04-07T17:30:56.000Z  2024-03-23T02:56:58.258Z   0.77           False  \n",
      "4  2024-03-13T02:39:34.454Z  2024-03-22T22:11:59.239Z    NaN            True  \n",
      "\n",
      "[5 rows x 45 columns]\n"
     ]
    }
   ],
   "source": [
    "item_picture_cols = list(item_pictures.columns)\n",
    "print(\"Item picture cols:\", item_picture_cols, len(item_picture_cols), end=\"\\n\\n\")\n",
    "print(item_pictures.head())"
   ]
  },
  {
   "cell_type": "code",
   "execution_count": 74,
   "metadata": {},
   "outputs": [],
   "source": []
  }
 ],
 "metadata": {
  "kernelspec": {
   "display_name": "mlenv",
   "language": "python",
   "name": "python3"
  },
  "language_info": {
   "codemirror_mode": {
    "name": "ipython",
    "version": 3
   },
   "file_extension": ".py",
   "mimetype": "text/x-python",
   "name": "python",
   "nbconvert_exporter": "python",
   "pygments_lexer": "ipython3",
   "version": "3.11.8"
  }
 },
 "nbformat": 4,
 "nbformat_minor": 2
}
